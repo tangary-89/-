{
 "cells": [
  {
   "cell_type": "markdown",
   "metadata": {},
   "source": [
    "# Python 基础教程(六)"
   ]
  },
  {
   "cell_type": "markdown",
   "metadata": {},
   "source": [
    "# 文件"
   ]
  },
  {
   "cell_type": "markdown",
   "metadata": {},
   "source": [
    "## 1. 文件的概念"
   ]
  },
  {
   "cell_type": "markdown",
   "metadata": {},
   "source": [
    "### 1.1 文件的概念和作用"
   ]
  },
  {
   "cell_type": "markdown",
   "metadata": {},
   "source": [
    "- 计算机的文件，就是储存在某种长期储存设备上的一般数据  \n",
    "- 长期储存设备包括：硬盘、U盘、移动硬盘、光盘..."
   ]
  },
  {
   "cell_type": "markdown",
   "metadata": {},
   "source": [
    "**文件的作用**"
   ]
  },
  {
   "cell_type": "markdown",
   "metadata": {},
   "source": [
    "将数据长期保存，在需要的时候使用"
   ]
  },
  {
   "cell_type": "markdown",
   "metadata": {},
   "source": [
    "###  1.2 文件的储存方式"
   ]
  },
  {
   "cell_type": "markdown",
   "metadata": {},
   "source": [
    "- 在计算机中，文件是以**二进制**的方式保存在磁盘上的"
   ]
  },
  {
   "cell_type": "markdown",
   "metadata": {},
   "source": [
    "- 文本文件  \n",
    "-- 可以使用文本编辑软件查看  \n",
    "-- 本质上还是二进制文件"
   ]
  },
  {
   "cell_type": "markdown",
   "metadata": {},
   "source": [
    "- 二进制文件  \n",
    "-- 保存的内容不是给人阅读的，而是提供给其他软件使用的  \n",
    "-- 例如：图片文件，音频文件、视频文件等  \n",
    "-- 二进制文件不能使用文本编辑器查看  "
   ]
  },
  {
   "cell_type": "markdown",
   "metadata": {},
   "source": [
    "## 2. 文件的基本操作"
   ]
  },
  {
   "cell_type": "markdown",
   "metadata": {},
   "source": [
    "计算机中操作文件的步骤非常固定，一共**三个步骤**"
   ]
  },
  {
   "cell_type": "markdown",
   "metadata": {},
   "source": [
    "- 打开文件  \n",
    "- 读、写文件  \n",
    "- 关闭文件"
   ]
  },
  {
   "cell_type": "markdown",
   "metadata": {},
   "source": [
    "### 2.1 python对文件的操作"
   ]
  },
  {
   "cell_type": "markdown",
   "metadata": {},
   "source": [
    "一个函数，三个方法"
   ]
  },
  {
   "cell_type": "markdown",
   "metadata": {},
   "source": [
    "| 序号  | 函数/方法 |            说明         |  \n",
    "|------|-----------|-----------------------------------|\n",
    "| 01    |    open    |打开文件，并且返回文件操作对象|\n",
    "|  02   |    read    |将文件内容读取到内存       |\n",
    "|03     |  write    |将指定内容写入文件中        |\n",
    "|  04   | close      |关闭文件               |"
   ]
  },
  {
   "cell_type": "markdown",
   "metadata": {},
   "source": [
    "### 2.2 read方法——读取文件"
   ]
  },
  {
   "cell_type": "markdown",
   "metadata": {},
   "source": [
    "open函数的第一个参数就是打开的文件名（文件名区分大小写）"
   ]
  },
  {
   "cell_type": "markdown",
   "metadata": {},
   "source": [
    "> file=open('readme')  \n",
    "> text=file.read()  \n",
    "> print(text)  \n",
    "> file.close()"
   ]
  },
  {
   "cell_type": "markdown",
   "metadata": {},
   "source": [
    "### 2.3 文件指针（了解）"
   ]
  },
  {
   "cell_type": "markdown",
   "metadata": {},
   "source": [
    "- **文件指针**标记从哪个位置开始读取数据  \n",
    "- 第一次打开文件时，通常文件指针会指向文件的开始位置  \n",
    "- 当执行了read方法后，文件指针会移动到读取内容的末尾"
   ]
  },
  {
   "cell_type": "markdown",
   "metadata": {},
   "source": [
    "思考：如果使用read方法读取了一次文件，指针到了末尾，还能使用read方法再读取一次吗？"
   ]
  },
  {
   "cell_type": "markdown",
   "metadata": {},
   "source": [
    "答案：不能，因为第一次读取后，文件指针已经移动到文件末尾，第二次就不会再读到任何内容"
   ]
  },
  {
   "cell_type": "markdown",
   "metadata": {},
   "source": [
    "### 2.4 打开文件的方式"
   ]
  },
  {
   "cell_type": "markdown",
   "metadata": {},
   "source": [
    "- open函数默认以只读方式打开文件，并且返回文件对象"
   ]
  },
  {
   "cell_type": "markdown",
   "metadata": {},
   "source": [
    "若要指定读取的方式："
   ]
  },
  {
   "cell_type": "markdown",
   "metadata": {},
   "source": [
    "- 语法：f = open('文件名'，'访问方式')"
   ]
  },
  {
   "cell_type": "markdown",
   "metadata": {},
   "source": [
    "|访问方式|说明------------------------------------------------                |  \n",
    "|-------|----|\n",
    "|r     |以**只读**方式打开文件。文件的指针会被放在文件开头，这是默认模式，如果文件不存在，抛出异常|\n",
    "|w|以**只写**方式打开文件，如果文件存在会被覆盖，如果文件不存在就创建新文件|\n",
    "|a|以**追加**方式打开文件，如果该文件已存在，文件指针将会放在文件末尾，如果文件不存在，创建新文件进行写入|\n",
    "|r+|以**读写**方式打开文件，文件指针将放在文件开头，如果文件不存在，抛出异常|\n",
    "|w+|以**读写**方式打开文件，如果文件存在会被覆盖，创建新文件。|\n",
    "|a+|以**读写**方式打开文件，如果该文件已存在，那指针将会放在文件末尾，如果文件不存在，创建新文件进行写入|"
   ]
  },
  {
   "cell_type": "markdown",
   "metadata": {},
   "source": [
    "- 提示"
   ]
  },
  {
   "cell_type": "markdown",
   "metadata": {},
   "source": [
    "在读写方式下，会频繁移动指针，影响文件的读写效率，开发时更多以只读、只写的方式来操作文件"
   ]
  },
  {
   "cell_type": "markdown",
   "metadata": {},
   "source": [
    "### 2.5 按行读取文件内容"
   ]
  },
  {
   "cell_type": "markdown",
   "metadata": {},
   "source": [
    "read方法默认会将文件的所有内容一次性读取到内存"
   ]
  },
  {
   "cell_type": "markdown",
   "metadata": {},
   "source": [
    "如果文件太大，对内存就有很重要的占用"
   ]
  },
  {
   "cell_type": "markdown",
   "metadata": {},
   "source": [
    "**readline方法**"
   ]
  },
  {
   "cell_type": "markdown",
   "metadata": {},
   "source": [
    "- readline一次只读取一行内容  \n",
    "- 方法执行后，文件指针移动到下一行，准备再次读取"
   ]
  },
  {
   "cell_type": "markdown",
   "metadata": {},
   "source": [
    "运用循环来读取"
   ]
  },
  {
   "cell_type": "markdown",
   "metadata": {},
   "source": [
    "- 例如\n",
    "> file=open('readme')  \n",
    "> while True:  \n",
    ">> text=file.readline()  \n",
    ">> if not text:  \n",
    ">>        break\n",
    ">>        \n",
    ">> 每读取一行数据的末尾已经有了一个'\\n'  \n",
    ">> print(text,end='')\n",
    ">    \n",
    "> file.close()"
   ]
  },
  {
   "cell_type": "markdown",
   "metadata": {},
   "source": [
    "### 2.6 文件读写案例--复制文件"
   ]
  },
  {
   "cell_type": "markdown",
   "metadata": {},
   "source": [
    "**小文件复制**"
   ]
  },
  {
   "cell_type": "markdown",
   "metadata": {},
   "source": [
    "- 打开一个已有文件，读取完整内容，并写入另一个文件"
   ]
  },
  {
   "cell_type": "code",
   "execution_count": 3,
   "metadata": {},
   "outputs": [],
   "source": [
    "file=open('table.csv')"
   ]
  },
  {
   "cell_type": "code",
   "execution_count": 4,
   "metadata": {},
   "outputs": [],
   "source": [
    "file_copy=open('table_copy.csv','w')"
   ]
  },
  {
   "cell_type": "code",
   "execution_count": 5,
   "metadata": {},
   "outputs": [
    {
     "data": {
      "text/plain": [
       "58"
      ]
     },
     "execution_count": 5,
     "metadata": {},
     "output_type": "execute_result"
    }
   ],
   "source": [
    "#因为文件比较大，我只读一两行吧\n",
    "text=file.readline()\n",
    "file_copy.write(text)"
   ]
  },
  {
   "cell_type": "code",
   "execution_count": 6,
   "metadata": {},
   "outputs": [],
   "source": [
    "file.close()\n",
    "file_copy.close()"
   ]
  },
  {
   "cell_type": "markdown",
   "metadata": {},
   "source": [
    "**大文件复制**"
   ]
  },
  {
   "cell_type": "markdown",
   "metadata": {},
   "source": [
    "打开一个已有文件，逐行读取内容，并顺序写到另一个文件"
   ]
  },
  {
   "cell_type": "code",
   "execution_count": 12,
   "metadata": {},
   "outputs": [],
   "source": [
    "file=open('table.csv')\n",
    "file_copy=open('table_bigcopy.csv','w')\n",
    "while True:\n",
    "    text=file.readline()\n",
    "    if not text:\n",
    "        break\n",
    "    file_copy.write(text)\n",
    "file.close()\n",
    "file_copy.close()"
   ]
  },
  {
   "cell_type": "markdown",
   "metadata": {},
   "source": [
    "### 3.文件/目录的常用管理操作"
   ]
  },
  {
   "cell_type": "markdown",
   "metadata": {},
   "source": [
    "## OS模块"
   ]
  },
  {
   "cell_type": "markdown",
   "metadata": {},
   "source": [
    "os模块是Python用来处理目录的文件的模块"
   ]
  },
  {
   "cell_type": "markdown",
   "metadata": {},
   "source": [
    "- 1.常用属性"
   ]
  },
  {
   "cell_type": "markdown",
   "metadata": {},
   "source": [
    "|OS模块常用属性|相应的作用|\n",
    "-----------------------|----|\n",
    "os.name|返回你电脑的操作系统，(Windows系统下会返回'nt')\n",
    "os.curdir|指代当前目录，也可以用'.'来表示当前目录\n",
    "os.pardir|指代当前目录的上一级目录，也可以用'..'表示\n",
    "os.sep|返回路径名分隔符，'//'也可以是'\\'\n",
    "os.extsep|返回文件扩展名分隔符，windows下为','\n",
    "os.linesep|返回文本文件的分隔符"
   ]
  },
  {
   "cell_type": "code",
   "execution_count": 16,
   "metadata": {},
   "outputs": [],
   "source": [
    "import os"
   ]
  },
  {
   "cell_type": "code",
   "execution_count": 17,
   "metadata": {},
   "outputs": [
    {
     "data": {
      "text/plain": [
       "'nt'"
      ]
     },
     "execution_count": 17,
     "metadata": {},
     "output_type": "execute_result"
    }
   ],
   "source": [
    "os.name"
   ]
  },
  {
   "cell_type": "code",
   "execution_count": 18,
   "metadata": {},
   "outputs": [
    {
     "data": {
      "text/plain": [
       "'\\\\'"
      ]
     },
     "execution_count": 18,
     "metadata": {},
     "output_type": "execute_result"
    }
   ],
   "source": [
    "os.sep"
   ]
  },
  {
   "cell_type": "code",
   "execution_count": 19,
   "metadata": {},
   "outputs": [
    {
     "data": {
      "text/plain": [
       "'.'"
      ]
     },
     "execution_count": 19,
     "metadata": {},
     "output_type": "execute_result"
    }
   ],
   "source": [
    "os.extsep"
   ]
  },
  {
   "cell_type": "code",
   "execution_count": 20,
   "metadata": {},
   "outputs": [
    {
     "data": {
      "text/plain": [
       "'..'"
      ]
     },
     "execution_count": 20,
     "metadata": {},
     "output_type": "execute_result"
    }
   ],
   "source": [
    "os.pardir"
   ]
  },
  {
   "cell_type": "markdown",
   "metadata": {},
   "source": [
    "### 2.os模块的部分常用方法"
   ]
  },
  {
   "cell_type": "markdown",
   "metadata": {},
   "source": [
    "边用边补充"
   ]
  },
  {
   "cell_type": "markdown",
   "metadata": {},
   "source": [
    "|os模块常用方法|相应的方法|\n",
    "|-------------|---------|\n",
    "os.chdir(path)|改变当前工作目录，path必须为字符串形式的目录|\n",
    "os.getcwd()|返回当前工作目录\n",
    "os.lisdir(path)|列举指定目录的文件名\n",
    "os.mkdir(path)|创建path指定的文件夹,只能创建一个单层文件，而不能嵌套创建，若文件夹存在则会抛出异常\n",
    "os.makedirs(path)|创建多层目录，可以嵌套创建\n",
    "os.move(file_name)|删除指定文件\n",
    "os.rmdir(path)|删除单层目录，遇到目录非空时会抛出异常\n",
    "os.removedirs(path)|逐层删除多层目录\n",
    "os.rename(old,new)|文件old重命名为new\n",
    "os.system(command)|运行系统的命令窗口"
   ]
  },
  {
   "cell_type": "markdown",
   "metadata": {},
   "source": [
    "### 3. os.path模块常用方法"
   ]
  },
  {
   "cell_type": "markdown",
   "metadata": {},
   "source": [
    "|os.path模块常用方法|相应的作用|\n",
    "|-----------------|---------|\n",
    "abspath(path)|返回文件或目录的绝对路径\n",
    "basename(path)|返回path路径最后一个\\\\后的内容，可以为空\n",
    "dirname(path)|返回path路径最后一个\\\\之前的内容\n",
    "split(path)|返回一个（head,tail）元组，head为最后\\\\之前的内容；tail为最后\\\\之后的内容，可以为空\n",
    "splitext(path)|返回指向文件的路径和扩展名\n",
    "exists(path)|查询路径path是否存在\n",
    "isabs(s)|判断指定路径s是否为绝对路径\n",
    "isdir(path)|判断path指向的是否是文件夹\n",
    "isfile(path)|判断path是否指向文件\n",
    "join(path,*path)|将两个path通过\\\\组合在一起，或将更多path组合在一起\n",
    "getatime(filename)|返回文件的最近访问时间,返回的是浮点数时间\n",
    "getctime(filename)|返回文件的创建时间\n",
    "getmtime(filename)|返回文件的修改时间"
   ]
  },
  {
   "cell_type": "code",
   "execution_count": null,
   "metadata": {},
   "outputs": [],
   "source": []
  }
 ],
 "metadata": {
  "kernelspec": {
   "display_name": "Python 3",
   "language": "python",
   "name": "python3"
  },
  "language_info": {
   "codemirror_mode": {
    "name": "ipython",
    "version": 3
   },
   "file_extension": ".py",
   "mimetype": "text/x-python",
   "name": "python",
   "nbconvert_exporter": "python",
   "pygments_lexer": "ipython3",
   "version": "3.7.0"
  }
 },
 "nbformat": 4,
 "nbformat_minor": 2
}
