{
 "cells": [
  {
   "cell_type": "markdown",
   "metadata": {},
   "source": [
    "# Python 基础教程(五)"
   ]
  },
  {
   "cell_type": "markdown",
   "metadata": {},
   "source": [
    "# 异常"
   ]
  },
  {
   "cell_type": "markdown",
   "metadata": {},
   "source": [
    "程序在运行时，如果解释器遇到一个错误，就会停止程序的运行，并且提示错误信息，这就是异常"
   ]
  },
  {
   "cell_type": "markdown",
   "metadata": {},
   "source": [
    "程序停止执行并做出错误提示这个过程，叫抛出异常"
   ]
  },
  {
   "cell_type": "markdown",
   "metadata": {},
   "source": [
    "程序开发时，很难将所有特殊情况都处理得面面俱到，通过异常捕获，可以针对突发事件做集中的处理，从而保证程序的稳定性和健壮性"
   ]
  },
  {
   "cell_type": "markdown",
   "metadata": {},
   "source": [
    "## 1.异常捕获"
   ]
  },
  {
   "cell_type": "markdown",
   "metadata": {},
   "source": [
    "### 1.1 简单的异常捕获"
   ]
  },
  {
   "cell_type": "markdown",
   "metadata": {},
   "source": [
    "如果对某些代码的执行不能确定是否正确，可以增加try来捕获异常"
   ]
  },
  {
   "cell_type": "code",
   "execution_count": 1,
   "metadata": {},
   "outputs": [],
   "source": [
    "#try:\n",
    "#   尝试执行的代码\n",
    "#except:\n",
    "#     出现错误的处理"
   ]
  },
  {
   "cell_type": "code",
   "execution_count": 2,
   "metadata": {},
   "outputs": [
    {
     "name": "stdout",
     "output_type": "stream",
     "text": [
      "请输入一个整数a\n"
     ]
    },
    {
     "ename": "ValueError",
     "evalue": "invalid literal for int() with base 10: 'a'",
     "output_type": "error",
     "traceback": [
      "\u001b[1;31m---------------------------------------------------------------------------\u001b[0m",
      "\u001b[1;31mValueError\u001b[0m                                Traceback (most recent call last)",
      "\u001b[1;32m<ipython-input-2-300830691054>\u001b[0m in \u001b[0;36m<module>\u001b[1;34m()\u001b[0m\n\u001b[0;32m      1\u001b[0m \u001b[1;31m#例子\u001b[0m\u001b[1;33m\u001b[0m\u001b[1;33m\u001b[0m\u001b[0m\n\u001b[1;32m----> 2\u001b[1;33m \u001b[0mnum\u001b[0m\u001b[1;33m=\u001b[0m\u001b[0mint\u001b[0m\u001b[1;33m(\u001b[0m\u001b[0minput\u001b[0m\u001b[1;33m(\u001b[0m\u001b[1;34m'请输入一个整数'\u001b[0m\u001b[1;33m)\u001b[0m\u001b[1;33m)\u001b[0m\u001b[1;33m\u001b[0m\u001b[0m\n\u001b[0m",
      "\u001b[1;31mValueError\u001b[0m: invalid literal for int() with base 10: 'a'"
     ]
    }
   ],
   "source": [
    "#例子\n",
    "num=int(input('请输入一个整数'))\n",
    "#输入a"
   ]
  },
  {
   "cell_type": "code",
   "execution_count": 4,
   "metadata": {},
   "outputs": [
    {
     "name": "stdout",
     "output_type": "stream",
     "text": [
      "请输入一个整数a\n",
      "请输入正确的整数\n",
      "--------------------------------------------------\n"
     ]
    }
   ],
   "source": [
    "#捕获异常\n",
    "try:\n",
    "    num=int(input('请输入一个整数'))\n",
    "except:\n",
    "    print('请输入正确的整数')\n",
    "print('-'*50)#注意这里没有缩进，不是在except的代码块里面,就算上面的代码没有正确执行，触发了except，这行代码也能接着执行"
   ]
  },
  {
   "cell_type": "markdown",
   "metadata": {},
   "source": [
    "无论是否出现错误，都会继续执行后面的代码，这就是捕获异常的作用"
   ]
  },
  {
   "cell_type": "markdown",
   "metadata": {},
   "source": [
    "### 1.2错误类型捕获"
   ]
  },
  {
   "cell_type": "markdown",
   "metadata": {},
   "source": [
    "可能会遇到不同类型的异常，并且需要针对不同类型的异常，做出不同的响应，就需要捕获错误类型了"
   ]
  },
  {
   "cell_type": "code",
   "execution_count": 11,
   "metadata": {},
   "outputs": [
    {
     "name": "stdout",
     "output_type": "stream",
     "text": [
      "请输入一个整数0\n"
     ]
    },
    {
     "ename": "ZeroDivisionError",
     "evalue": "division by zero",
     "output_type": "error",
     "traceback": [
      "\u001b[1;31m---------------------------------------------------------------------------\u001b[0m",
      "\u001b[1;31mZeroDivisionError\u001b[0m                         Traceback (most recent call last)",
      "\u001b[1;32m<ipython-input-11-93baa54614ca>\u001b[0m in \u001b[0;36m<module>\u001b[1;34m()\u001b[0m\n\u001b[0;32m      1\u001b[0m \u001b[1;31m#例子\u001b[0m\u001b[1;33m\u001b[0m\u001b[1;33m\u001b[0m\u001b[0m\n\u001b[0;32m      2\u001b[0m \u001b[0mnum\u001b[0m\u001b[1;33m=\u001b[0m\u001b[0mint\u001b[0m\u001b[1;33m(\u001b[0m\u001b[0minput\u001b[0m\u001b[1;33m(\u001b[0m\u001b[1;34m'请输入一个整数'\u001b[0m\u001b[1;33m)\u001b[0m\u001b[1;33m)\u001b[0m\u001b[1;33m\u001b[0m\u001b[0m\n\u001b[1;32m----> 3\u001b[1;33m \u001b[0mresult\u001b[0m\u001b[1;33m=\u001b[0m\u001b[1;36m8\u001b[0m\u001b[1;33m/\u001b[0m\u001b[0mnum\u001b[0m\u001b[1;33m\u001b[0m\u001b[0m\n\u001b[0m\u001b[0;32m      4\u001b[0m \u001b[0mprint\u001b[0m\u001b[1;33m(\u001b[0m\u001b[0mresult\u001b[0m\u001b[1;33m)\u001b[0m\u001b[1;33m\u001b[0m\u001b[0m\n",
      "\u001b[1;31mZeroDivisionError\u001b[0m: division by zero"
     ]
    }
   ],
   "source": [
    "#例子\n",
    "num=int(input('请输入一个整数'))\n",
    "result=8/num\n",
    "print(result)"
   ]
  },
  {
   "cell_type": "markdown",
   "metadata": {},
   "source": [
    "当解释器抛出异常时，最后一行错误信息的第一个单词，就是错误类型"
   ]
  },
  {
   "cell_type": "code",
   "execution_count": 10,
   "metadata": {},
   "outputs": [
    {
     "name": "stdout",
     "output_type": "stream",
     "text": [
      "请输入一个整数a\n",
      "值错误\n"
     ]
    }
   ],
   "source": [
    "#利用错误类型捕获\n",
    "try:\n",
    "    num=int(input('请输入一个整数'))\n",
    "    result=8/num\n",
    "    print(result)\n",
    "except ValueError:\n",
    "    print('值错误')"
   ]
  },
  {
   "cell_type": "code",
   "execution_count": 12,
   "metadata": {},
   "outputs": [
    {
     "name": "stdout",
     "output_type": "stream",
     "text": [
      "请输入一个整数0\n",
      "除零错误\n"
     ]
    }
   ],
   "source": [
    "#可以同时处理几种类型的异常\n",
    "try:\n",
    "    num=int(input('请输入一个整数'))\n",
    "    result=8/num\n",
    "    print(result)\n",
    "except ValueError:\n",
    "    print('值错误')\n",
    "except ZeroDivisionError:\n",
    "    print('除零错误')"
   ]
  },
  {
   "cell_type": "markdown",
   "metadata": {},
   "source": [
    "如果有未知类型的错误该怎么办呢"
   ]
  },
  {
   "cell_type": "markdown",
   "metadata": {},
   "source": [
    "要预判到所有可能出现的错误，还是有一定难度的"
   ]
  },
  {
   "cell_type": "markdown",
   "metadata": {},
   "source": [
    "如果希望程序无论出现任何问题，都不会因为解释器抛出异常而停止执行，可以增加一个except"
   ]
  },
  {
   "cell_type": "code",
   "execution_count": 19,
   "metadata": {},
   "outputs": [
    {
     "name": "stdout",
     "output_type": "stream",
     "text": [
      "请输入一个整数0\n",
      "未知错误division by zero\n"
     ]
    }
   ],
   "source": [
    "#有未知类型的错误时\n",
    "try:\n",
    "    num=int(input('请输入一个整数'))\n",
    "    result=8/num\n",
    "    print(result)\n",
    "except ValueError:\n",
    "    print('值错误')\n",
    "#except ZeroDivisionError:   为了试验未知错误，将它注释一下\n",
    "  #  print('除零错误')\n",
    "except Exception as result:#exception是异常的类，后面的result是自己定义的变量，可以自己随意定义\n",
    "    print('未知错误{}'.format(result))"
   ]
  },
  {
   "cell_type": "markdown",
   "metadata": {},
   "source": [
    "### 1.3 异常捕获的完整语法"
   ]
  },
  {
   "cell_type": "markdown",
   "metadata": {},
   "source": [
    "**try**:  \n",
    "    尝试执行的代码\n",
    "\n",
    "except 错误类型1:  \n",
    "    对应的代码处理\n",
    "\n",
    "except 错误类型2:  \n",
    "    对应的代码处理\n",
    "\n",
    "except (错误类型3,错误类型4):  \n",
    "    对应的代码处理\n",
    "\n",
    "except Exception as result:*捕获未知异常*\n",
    "    对应的代码处理\n",
    "\n",
    "else:  \n",
    "    没有出现异常才会执行的代码\n",
    "    \n",
    "finally:  \n",
    "    无论是否有异常都会执行的代码"
   ]
  },
  {
   "cell_type": "markdown",
   "metadata": {},
   "source": [
    "### 1.4 异常的传递性"
   ]
  },
  {
   "cell_type": "markdown",
   "metadata": {},
   "source": [
    "- *异常的传递* -- 当 函数/方法执行 出现异常，会将异常传递给函数/方法的调用一方  \n",
    "- 如果传递到主程序，仍然没有异常处理，程序才会被终止"
   ]
  },
  {
   "cell_type": "markdown",
   "metadata": {},
   "source": [
    "> ## 提示  \n",
    "- 在开发中，可以在主程序中增加**异常捕获**  \n",
    "- 而在主函数中调用的其他函数，只要出现异常，都会传递给主函数的异常捕获中  \n",
    "- 这样就不用在代码中增加大量的异常捕获，能够保证代码的整洁\n"
   ]
  },
  {
   "cell_type": "code",
   "execution_count": 1,
   "metadata": {},
   "outputs": [
    {
     "name": "stdout",
     "output_type": "stream",
     "text": [
      "输入函数a\n",
      "未知错误invalid literal for int() with base 10: 'a'\n"
     ]
    }
   ],
   "source": [
    "#例子\n",
    "def demo1():#函数\n",
    "    return int(input('输入函数'))\n",
    "def demo2():#函数\n",
    "    return demo1()\n",
    "try:#主程序中放入捕获异常\n",
    "    print(demo2())\n",
    "except Exception as result:\n",
    "    print('未知错误{}'.format(result))"
   ]
  },
  {
   "cell_type": "markdown",
   "metadata": {},
   "source": [
    "- 所以异常的传递性很有用，可以在主程序中设置**异常捕获**，函数中就不需要了，开发的工作量**减轻**很多"
   ]
  },
  {
   "cell_type": "markdown",
   "metadata": {},
   "source": [
    "## 2.抛出**raise**异常"
   ]
  },
  {
   "cell_type": "markdown",
   "metadata": {},
   "source": [
    "### 2.1 应用场景"
   ]
  },
  {
   "cell_type": "markdown",
   "metadata": {},
   "source": [
    "### 示例"
   ]
  },
  {
   "cell_type": "markdown",
   "metadata": {},
   "source": [
    "- 提示用户 **输入密码**，如果长度**少于8**，抛出异常"
   ]
  },
  {
   "cell_type": "markdown",
   "metadata": {},
   "source": [
    "- 这样就可以给出很多与用户交互的应用"
   ]
  },
  {
   "cell_type": "markdown",
   "metadata": {},
   "source": [
    "### 2.2 抛出异常"
   ]
  },
  {
   "cell_type": "markdown",
   "metadata": {},
   "source": [
    "- python中提供了一个exception 异常类\n",
    "- 在开发时，如果有特定的需求，希望抛出异常，可以：  \n",
    "1.创建一个Exception的对象  \n",
    "2.使用raise关键字抛出异常对象"
   ]
  },
  {
   "cell_type": "markdown",
   "metadata": {},
   "source": [
    "> **实例**"
   ]
  },
  {
   "cell_type": "code",
   "execution_count": 4,
   "metadata": {},
   "outputs": [],
   "source": [
    "def input_password():\n",
    "    #提示用户输入密码\n",
    "    pwd=input('请输入密码')\n",
    "    #判断长度\n",
    "    if len(pwd)>=8:\n",
    "        return pwd\n",
    "    print('主动抛出异常')\n",
    "    #创建异常对象\n",
    "    ex = Exception('密码长度不够')#它的参数是一个多值元组参数，自己随便定义\n",
    "    #主动抛出异常\n",
    "    raise ex"
   ]
  },
  {
   "cell_type": "code",
   "execution_count": 6,
   "metadata": {},
   "outputs": [
    {
     "name": "stdout",
     "output_type": "stream",
     "text": [
      "请输入密码1\n",
      "主动抛出异常\n",
      "密码长度不够\n"
     ]
    }
   ],
   "source": [
    "try:#再捕获异常\n",
    "    input_password()\n",
    "except Exception as result:\n",
    "    print(result)"
   ]
  },
  {
   "cell_type": "markdown",
   "metadata": {},
   "source": [
    "> - 这样就实现了一个和用户交互的功能  \n",
    "> - 在捕获异常的时候可以将异常对象中的参数语句放在except中  \n",
    "> - 捕获异常后，代码的整洁度会高很多  "
   ]
  },
  {
   "cell_type": "markdown",
   "metadata": {},
   "source": [
    "# 模块"
   ]
  },
  {
   "cell_type": "markdown",
   "metadata": {},
   "source": [
    "## 1.1 模块的概念"
   ]
  },
  {
   "cell_type": "markdown",
   "metadata": {},
   "source": [
    "> **模块是Python程序架构的一个核心概念**"
   ]
  },
  {
   "cell_type": "markdown",
   "metadata": {},
   "source": [
    "- 每一个以扩展名*.py*结尾的python源代码文件都是一个**模块**  \n",
    "- 模块名是一个标识符，需要满足标识符的命名规则\n",
    "- 模块是一个工具包，要想使用工具包中的工具，必须先导入这个工具包"
   ]
  },
  {
   "cell_type": "markdown",
   "metadata": {},
   "source": [
    "## 1.2 模块的导入方式"
   ]
  },
  {
   "cell_type": "markdown",
   "metadata": {},
   "source": [
    "- import 导入"
   ]
  },
  {
   "cell_type": "markdown",
   "metadata": {},
   "source": [
    "> import 模块名1，模块名2"
   ]
  },
  {
   "cell_type": "markdown",
   "metadata": {},
   "source": [
    "提示：在导入模块时，每个导入应该独占一行"
   ]
  },
  {
   "cell_type": "markdown",
   "metadata": {},
   "source": [
    "> import module1  \n",
    "> import module2"
   ]
  },
  {
   "cell_type": "markdown",
   "metadata": {},
   "source": [
    "### 导入后可使用其全局变量、函数、类"
   ]
  },
  {
   "cell_type": "markdown",
   "metadata": {},
   "source": [
    "**使用as指定模块的别名**"
   ]
  },
  {
   "cell_type": "markdown",
   "metadata": {},
   "source": [
    "> import module as 别名"
   ]
  },
  {
   "cell_type": "markdown",
   "metadata": {},
   "source": [
    "- **from import**"
   ]
  },
  {
   "cell_type": "markdown",
   "metadata": {},
   "source": [
    "从 模块导入 一个工具  \n",
    "*from module import tool*"
   ]
  },
  {
   "cell_type": "markdown",
   "metadata": {},
   "source": [
    "*不需要再使用模块名调用函数，可以直接用函数名调用*"
   ]
  },
  {
   "cell_type": "code",
   "execution_count": 8,
   "metadata": {},
   "outputs": [
    {
     "data": {
      "text/plain": [
       "1.4142135623730951"
      ]
     },
     "execution_count": 8,
     "metadata": {},
     "output_type": "execute_result"
    }
   ],
   "source": [
    "from math import sqrt\n",
    "sqrt(2)"
   ]
  },
  {
   "cell_type": "code",
   "execution_count": 9,
   "metadata": {},
   "outputs": [
    {
     "data": {
      "text/plain": [
       "1.4142135623730951"
      ]
     },
     "execution_count": 9,
     "metadata": {},
     "output_type": "execute_result"
    }
   ],
   "source": [
    "from math import sqrt as sq\n",
    "sq(2)"
   ]
  },
  {
   "cell_type": "markdown",
   "metadata": {},
   "source": [
    "**如果两个不同模块中，导入同名函数，那么后导入的函数，会覆盖前面的函数**"
   ]
  },
  {
   "cell_type": "markdown",
   "metadata": {},
   "source": [
    "> 可以使用as取别名，解决这个问题"
   ]
  },
  {
   "cell_type": "markdown",
   "metadata": {},
   "source": [
    "- **from import*(不推荐)**"
   ]
  },
  {
   "cell_type": "markdown",
   "metadata": {},
   "source": [
    "导入模块中所有函数，且不需要通过模块名.函数名()来调用"
   ]
  },
  {
   "cell_type": "markdown",
   "metadata": {},
   "source": [
    "但函数重名没有任何提示，不推荐使用"
   ]
  },
  {
   "cell_type": "markdown",
   "metadata": {},
   "source": [
    "## 1.3 模块的搜索顺序"
   ]
  },
  {
   "cell_type": "markdown",
   "metadata": {},
   "source": [
    "- 搜索**当前目录**指定名的文件，如果有就直接导入  \n",
    "- 如果没有，再搜索**系统目录**"
   ]
  },
  {
   "cell_type": "markdown",
   "metadata": {},
   "source": [
    "> 在开发时，给文件起名，不要和系统的模块文件重名"
   ]
  },
  {
   "cell_type": "markdown",
   "metadata": {},
   "source": [
    "- Python中每个模块都有一个内置属性*‘__file__’·*可以查看模块的完整路径"
   ]
  },
  {
   "cell_type": "code",
   "execution_count": 1,
   "metadata": {},
   "outputs": [
    {
     "name": "stdout",
     "output_type": "stream",
     "text": [
      "E:\\anaconda\\lib\\random.py\n"
     ]
    }
   ],
   "source": [
    "import random\n",
    "print(random.__file__)"
   ]
  },
  {
   "cell_type": "markdown",
   "metadata": {},
   "source": [
    "- 有时候这个很有用"
   ]
  },
  {
   "cell_type": "markdown",
   "metadata": {},
   "source": [
    "## 1.4 开发原则"
   ]
  },
  {
   "cell_type": "markdown",
   "metadata": {},
   "source": [
    "- **每一个文件都应该是可以被导入的**"
   ]
  },
  {
   "cell_type": "markdown",
   "metadata": {},
   "source": [
    "- 一个独立的文件就是一个模块"
   ]
  },
  {
   "cell_type": "markdown",
   "metadata": {},
   "source": [
    "- 在导入文件时，文件中所有未缩进的代码都会被执行一遍"
   ]
  },
  {
   "cell_type": "markdown",
   "metadata": {},
   "source": [
    "> 也就是说，如果要代码被调用才运行，要作为全局变量、函数、类，直接执行的代码不是向外界提供的工具"
   ]
  },
  {
   "cell_type": "markdown",
   "metadata": {},
   "source": [
    "### 实际应用场景"
   ]
  },
  {
   "cell_type": "markdown",
   "metadata": {},
   "source": [
    "> 开发人员通常会在模块下方增加一些测试代码\n",
    ">> 仅在模块中使用，而被导入到其他文件中不需要执行"
   ]
  },
  {
   "cell_type": "markdown",
   "metadata": {},
   "source": [
    "### 如何解决这个问题呢"
   ]
  },
  {
   "cell_type": "markdown",
   "metadata": {},
   "source": [
    "**name属性**"
   ]
  },
  {
   "cell_type": "markdown",
   "metadata": {},
   "source": [
    "- **name属性**可以做到，测试模块的代码只在测试情况下被运行，而在导入时**不被执行**！"
   ]
  },
  {
   "cell_type": "code",
   "execution_count": 2,
   "metadata": {},
   "outputs": [
    {
     "name": "stdout",
     "output_type": "stream",
     "text": [
      "__main__\n",
      "123456\n"
     ]
    }
   ],
   "source": [
    "def say_hello():#模块内的函数\n",
    "    print('你好')\n",
    "\n",
    "#如果直接执行模块\n",
    "if __name__ == \"__main__\":\n",
    "    print(__name__)#这个会运行\n",
    "\n",
    "#文件被导入时，能够直接执行的代码并不需要被执行\n",
    "    print('123456')"
   ]
  },
  {
   "cell_type": "markdown",
   "metadata": {},
   "source": [
    "- 上面这样的格式，将想直接被运行的代码(用来测试的)，放在if下，在其他人导入模块时，这些代码是不会被执行的"
   ]
  },
  {
   "cell_type": "markdown",
   "metadata": {},
   "source": [
    "- 这样的写法很常见"
   ]
  },
  {
   "cell_type": "markdown",
   "metadata": {},
   "source": [
    "**在很多python文件中都会见到以下格式的代码**"
   ]
  },
  {
   "cell_type": "markdown",
   "metadata": {},
   "source": [
    "> - 导入模块  \n",
    "> - 定义全局变量  \n",
    "> - 定义类  \n",
    "> - 定义函数  \n",
    "> - 中间的代码  \n",
    "> - 代码的最下方  \n",
    ">> def main():  \n",
    ">>     ...  \n",
    ">>     pass\n",
    ">  \n",
    "> 再根据__name__判断是否执行以下代码  \n",
    ">> if __name__ == \"__main__\":  \n",
    ">>     main()  "
   ]
  },
  {
   "cell_type": "markdown",
   "metadata": {},
   "source": [
    "# 包(Package)"
   ]
  },
  {
   "cell_type": "markdown",
   "metadata": {},
   "source": [
    "- 包是一个包含多个模块的**特殊目录**  \n",
    "- 目录下必须有一个特殊文件**__init__.py**\n",
    "- 包名的**命名方式**和**变量名**一致，小写字母+下划线"
   ]
  },
  {
   "cell_type": "markdown",
   "metadata": {},
   "source": [
    "**好处**"
   ]
  },
  {
   "cell_type": "markdown",
   "metadata": {},
   "source": [
    "import 包名 可以导入所有的模块"
   ]
  },
  {
   "cell_type": "markdown",
   "metadata": {},
   "source": [
    "**init.py**"
   ]
  },
  {
   "cell_type": "markdown",
   "metadata": {},
   "source": [
    "- 要在外界使用包中的模块，需要在__init__.py中指定对外界提供的模块"
   ]
  },
  {
   "cell_type": "markdown",
   "metadata": {},
   "source": [
    "> 从 当前目录导入模块列表\n",
    ">> from . import xxx  \n",
    ">> from . import xxx"
   ]
  },
  {
   "cell_type": "markdown",
   "metadata": {},
   "source": [
    "这就是init中的语法"
   ]
  },
  {
   "cell_type": "markdown",
   "metadata": {},
   "source": [
    "### 发布模块(了解)"
   ]
  },
  {
   "cell_type": "markdown",
   "metadata": {},
   "source": [
    "### 如果希望自己开发的模块，分享给其他人，可以按以下步骤操作"
   ]
  },
  {
   "cell_type": "markdown",
   "metadata": {},
   "source": [
    "### 3.1 制作发布压缩包步骤"
   ]
  },
  {
   "cell_type": "markdown",
   "metadata": {},
   "source": [
    "1.创建 setup.py"
   ]
  },
  {
   "cell_type": "markdown",
   "metadata": {},
   "source": [
    "- 需要时再考虑"
   ]
  },
  {
   "cell_type": "markdown",
   "metadata": {},
   "source": [
    "> from distutils.core import setup  \n",
    ">setup(name=xxx,version=xx,description=xx,long_description=xxx,author=,author_email=xx,url=xxx,py_modules=[xxx])"
   ]
  },
  {
   "cell_type": "markdown",
   "metadata": {},
   "source": [
    "py_modules就是希望提供的模块"
   ]
  },
  {
   "cell_type": "markdown",
   "metadata": {},
   "source": [
    "需要的时候直接上网搜吧"
   ]
  },
  {
   "cell_type": "markdown",
   "metadata": {},
   "source": [
    "### 还有安装模块，删除模块等，需要时看黑马程序员的视频"
   ]
  },
  {
   "cell_type": "code",
   "execution_count": null,
   "metadata": {},
   "outputs": [],
   "source": []
  }
 ],
 "metadata": {
  "kernelspec": {
   "display_name": "Python 3",
   "language": "python",
   "name": "python3"
  },
  "language_info": {
   "codemirror_mode": {
    "name": "ipython",
    "version": 3
   },
   "file_extension": ".py",
   "mimetype": "text/x-python",
   "name": "python",
   "nbconvert_exporter": "python",
   "pygments_lexer": "ipython3",
   "version": "3.7.0"
  }
 },
 "nbformat": 4,
 "nbformat_minor": 2
}
